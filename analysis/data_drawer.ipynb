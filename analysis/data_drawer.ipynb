{
 "cells": [
  {
   "attachments": {},
   "cell_type": "markdown",
   "metadata": {},
   "source": [
    "# TP1 Data visualization\n"
   ]
  },
  {
   "attachments": {},
   "cell_type": "markdown",
   "metadata": {},
   "source": [
    "Imports and config"
   ]
  },
  {
   "cell_type": "code",
   "execution_count": null,
   "metadata": {},
   "outputs": [],
   "source": [
    "import numpy as np\n",
    "import math\n",
    "from sklearn.linear_model import LinearRegression\n",
    "import matplotlib.pyplot as plt\n",
    "import regex as re\n",
    "import json\n",
    "\n",
    "from mpstyle import mpSetParamStyle,setMplFont\n",
    "mpSetParamStyle(\"default\",True)\n",
    "\n",
    "setMplFont()# Algorithm constants\n",
    "with open(\"config/config.json\") as f :   \n",
    "    config = json.load(open(\"config/config.json\"))"
   ]
  },
  {
   "attachments": {},
   "cell_type": "markdown",
   "metadata": {},
   "source": [
    "### Data loading from file"
   ]
  },
  {
   "cell_type": "code",
   "execution_count": null,
   "metadata": {},
   "outputs": [],
   "source": [
    "def load_file(filename) :\n",
    "    pattern = \"N = (\\d+) \\| (.+)\"\n",
    "    X, T = [], []\n",
    "    with open(filename) as f :\n",
    "        data = f.read().splitlines()\n",
    "        for line in data :\n",
    "            x = re.match(pattern,line).groups()\n",
    "            X.append(int(x[0]))\n",
    "            T.append(float(x[1])/1000)\n",
    "    return np.array(X), np.array(T)"
   ]
  },
  {
   "attachments": {},
   "cell_type": "markdown",
   "metadata": {},
   "source": [
    "# Analysis code"
   ]
  },
  {
   "cell_type": "code",
   "execution_count": null,
   "metadata": {},
   "outputs": [],
   "source": [
    "def powerTest(X, Y, text = True) :\n",
    "    model = LinearRegression()\n",
    "    x, y = np.log(X).reshape((-1, 1)), np.log(Y)\n",
    "    model.fit(x, y)\n",
    "    \n",
    "    power = model.coef_[0]\n",
    "    correlation = model.score(x, y)\n",
    "    \n",
    "    if text :\n",
    "        print(\"\\n===== Power test =====\")\n",
    "        print(f\"Correlation: {correlation:.4f}\")\n",
    "        print(f\"Empirical power: {power:.3f}\")\n",
    "    return power\n",
    "\n",
    "def powerTestExp(X, Y, text = True) :\n",
    "    model = LinearRegression()\n",
    "    x, y = X.reshape((-1, 1)), np.log(Y)\n",
    "    model.fit(x, y)\n",
    "    \n",
    "    power = model.coef_[0]\n",
    "    correlation = model.score(x, y)\n",
    "    power = np.e**power\n",
    "    if text :\n",
    "        print(\"\\n===== Power test =====\")\n",
    "        print(f\"Correlation: {correlation:.4f}\")\n",
    "        print(f\"Empirical power: {power:.3f}\")\n",
    "    return power\n",
    "\n",
    "def ratioTest(X, Y, power, text = True) :\n",
    "    ratio_Y = Y / (X**power)\n",
    "    coef = np.average(ratio_Y)\n",
    "    if text :\n",
    "        print(\"\\n===== Ratio test =====\")\n",
    "        print(f\"Ratio of y/f(x): {coef:.2e}\")\n",
    "    return coef\n",
    "\n",
    "def ratioTestExp(X, Y, power, text = True) :\n",
    "    ratio_Y = Y / (power**X)\n",
    "    coef = np.average(ratio_Y)\n",
    "    if text :\n",
    "        print(\"\\n===== Ratio test =====\")\n",
    "        print(f\"Ratio of y/f(x): {coef:.2e}\")\n",
    "    return coef\n",
    "\n",
    "def constantTest(X, Y, power, coef, text = True) :\n",
    "    approx = coef * X**power\n",
    "    model = LinearRegression()\n",
    "    x = approx.reshape((-1, 1))\n",
    "    model.fit(x, Y)\n",
    "    a = model.coef_[0]\n",
    "    b = model.intercept_\n",
    "    correlation = model.score(x, Y)\n",
    "    if text :\n",
    "        print(\"\\n===== Constant test =====\")\n",
    "        print(f\"Correlation: {correlation:.4f}\")\n",
    "        print(f\"Approximation: y = {a:.3f} * f(x) + {b:.1f}\")\n",
    "\n",
    "    return coef * a, b\n",
    "\n",
    "def constantTestExp(X, Y, power, coef, text = True) :\n",
    "    approx = coef * power**X\n",
    "    model = LinearRegression()\n",
    "    x = approx.reshape((-1, 1))\n",
    "    model.fit(x, Y)\n",
    "    a = model.coef_[0]\n",
    "    b = model.intercept_\n",
    "    correlation = model.score(x, Y)\n",
    "    if text :\n",
    "        print(\"\\n===== Constant test =====\")\n",
    "        print(f\"Correlation: {correlation:.4f}\")\n",
    "        print(f\"Approximation: y = {a:.3f} * f(x) + {b:.1f}\")\n",
    "\n",
    "    return coef * a, b"
   ]
  },
  {
   "cell_type": "code",
   "execution_count": null,
   "metadata": {},
   "outputs": [],
   "source": [
    "kw_maj = {\"which\" : 'major', \"linewidth\" : 1, \"linestyle\" : \"-\"}\n",
    "kw_min = {\"which\" : 'minor', \"linewidth\" : 1, \"linestyle\" : \":\"}\n",
    "\n",
    "def plots(X, Y, algo, a, b, c, p, exp = False):\n",
    "    color_ = config[algo][\"color\"]\n",
    "    kw_plot = {\"color\" : color_, \"linewidth\" : 2}\n",
    "    # Power Test\n",
    "    plt.plot(X, Y, **kw_plot)\n",
    "    plt.grid(**kw_maj)\n",
    "    plt.grid(**kw_min)\n",
    "    if not exp:\n",
    "        plt.xscale('log')\n",
    "    plt.yscale('log')\n",
    "    lab = \"Number of points\" + (\" (log)\" if not exp else \"\")\n",
    "    plt.xlabel(lab); plt.ylabel(\"Execution time (s) (log)\")\n",
    "    plt.title(f\"Power test - {algo}\")\n",
    "    plt.show()\n",
    "    # Ratio Test\n",
    "    ratio = Y / (X**p) if not exp else Y / (p**X)\n",
    "    plt.plot(X, ratio, **kw_plot)\n",
    "    plt.grid(**kw_maj)\n",
    "    plt.ylim([c*0.6, c*1.4])\n",
    "    plt.title(f\"Ratio test - {algo}\")\n",
    "    plt.xlabel(\"Number of points\"); plt.ylabel(r\"Ratio $y/f(x)$\")\n",
    "    plt.show()\n",
    "    # Constant Test\n",
    "    approx = c * X**p if not exp else c * p**X\n",
    "    plt.plot(approx, Y, **kw_plot)\n",
    "    plt.grid(**kw_maj)\n",
    "    plt.title(f\"Constant test - {algo}\")\n",
    "    plt.xlabel(r\"$f(x)$\"); plt.ylabel(r\"$y$\")\n",
    "    plt.show()\n",
    "    \n",
    "def finalPrint(X, Y, F, algo) :\n",
    "    kw_main  = {\"color\" : config[algo][\"color\"], \"linewidth\" : 2, \n",
    "                \"marker\" : 'o', \"markersize\" : 6}\n",
    "    kw_estim = {\"color\" : config[\"estim_color\"], \"linewidth\" : 2}\n",
    "    max_size = config[algo][\"Msize\"]\n",
    "    plt.plot(X,Y, label=f\"{algo} empirical time\", **kw_main)\n",
    "    x = np.linspace(32,max_size,max_size-32+1)\n",
    "    y = F(x)\n",
    "    plt.plot(x,y, label=\"Estimation\", **kw_estim)\n",
    "    plt.grid(**kw_maj)\n",
    "    plt.title(\"Comparison between empirical and estimated time\")\n",
    "    plt.xlabel(\"Matrix size\")\n",
    "    plt.ylabel(\"Execution time (s)\")\n",
    "    plt.legend()\n",
    "    plt.show()"
   ]
  },
  {
   "cell_type": "code",
   "execution_count": null,
   "metadata": {},
   "outputs": [],
   "source": [
    "X, T = load_file(\"res/greed.txt\")\n",
    "\n",
    "p = powerTest(X, T, True)\n",
    "c = ratioTest(X, T, p, True)\n",
    "a, b = constantTest(X, T, p, c, True)\n",
    "plots(X, T, \"Greedy\", a, b, c, p)"
   ]
  },
  {
   "cell_type": "code",
   "execution_count": null,
   "metadata": {},
   "outputs": [],
   "source": [
    "X, T = load_file(\"res/approx.txt\")\n",
    "\n",
    "p = powerTest(X, T, True)\n",
    "c = ratioTest(X, T, p, True)\n",
    "a, b = constantTest(X, T, p, c, True)\n",
    "plots(X, T, \"Approximative\", a, b, c, p)"
   ]
  },
  {
   "cell_type": "code",
   "execution_count": null,
   "metadata": {},
   "outputs": [],
   "source": [
    "X, T = load_file(\"res/dp.txt\")\n",
    "print(np.e**0.923)\n",
    "p = powerTestExp(X, T, True)\n",
    "c = ratioTestExp(X, T, p, True)\n",
    "a, b = constantTestExp(X, T, p, c, True)\n",
    "plots(X, T, \"Dynamic Programming\", a, b, c, p, exp=True)"
   ]
  }
 ],
 "metadata": {
  "kernelspec": {
   "display_name": "Python 3",
   "language": "python",
   "name": "python3"
  },
  "language_info": {
   "codemirror_mode": {
    "name": "ipython",
    "version": 3
   },
   "file_extension": ".py",
   "mimetype": "text/x-python",
   "name": "python",
   "nbconvert_exporter": "python",
   "pygments_lexer": "ipython3",
   "version": "3.10.9"
  },
  "orig_nbformat": 4,
  "vscode": {
   "interpreter": {
    "hash": "e7370f93d1d0cde622a1f8e1c04877d8463912d04d973331ad4851f04de6915a"
   }
  }
 },
 "nbformat": 4,
 "nbformat_minor": 2
}
